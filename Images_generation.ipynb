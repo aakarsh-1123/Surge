{
 "cells": [
  {
   "cell_type": "code",
   "execution_count": 6,
   "metadata": {},
   "outputs": [],
   "source": [
    "import matplotlib.pyplot as plt\n",
    "import os\n",
    "import pandas as pd"
   ]
  },
  {
   "cell_type": "code",
   "execution_count": 3,
   "metadata": {},
   "outputs": [
    {
     "data": {
      "text/plain": [
       "<Figure size 432x288 with 0 Axes>"
      ]
     },
     "metadata": {},
     "output_type": "display_data"
    }
   ],
   "source": [
    "with open('C:/Users/Aakarsh/Downloads/SURGE/FileNo_1_Stable_Qa475slpm.txt', 'r') as file:\n",
    "   data=file.readlines()\n",
    "   \n",
    "Time1 = []\n",
    "Pressure1 = []\n",
    "\n",
    "for line in data:\n",
    "    values = line.strip().split(',')\n",
    "    Time1.append(values[0])\n",
    "    Pressure1.append(values[6])\n",
    "\n",
    "start_index = 0\n",
    "end_index = 3276800\n",
    "step = 1000\n",
    "i=0\n",
    "\n",
    "time_slices = [Time1[i:i+step] for i in range(start_index, end_index, step)]\n",
    "pressure_slices = [Pressure1[i:i+step] for i in range(start_index, end_index, step)]\n",
    "\n",
    "for time_slice, pressure_slice in zip(time_slices, pressure_slices):\n",
    "    i=i+1\n",
    "    time_slice=[float(t) for t in time_slice]\n",
    "    pressure_slice=[float(p) for p in pressure_slice]\n",
    "    plt.plot(time_slice,pressure_slice)\n",
    "    filename= f'image_{i}.png'\n",
    "    filepath = os.path.join('C:/Users/Aakarsh/Downloads/images1', filename) \n",
    "    plt.savefig(filepath, format='png')\n",
    "    plt.clf()"
   ]
  },
  {
   "cell_type": "code",
   "execution_count": 4,
   "metadata": {},
   "outputs": [
    {
     "data": {
      "text/plain": [
       "<Figure size 432x288 with 0 Axes>"
      ]
     },
     "metadata": {},
     "output_type": "display_data"
    }
   ],
   "source": [
    "with open('C:/Users/Aakarsh/Downloads/SURGE/FileNo_6_Unstable_Qa600slpm.txt', 'r') as file:\n",
    "   data=file.readlines()\n",
    "   \n",
    "Time2 = []\n",
    "Pressure2 = []\n",
    "\n",
    "for line in data:\n",
    "    values = line.strip().split(',')\n",
    "    Time2.append(values[0])\n",
    "    Pressure2.append(values[6])\n",
    "\n",
    "time_slices = [Time2[i:i+step] for i in range(start_index, end_index, step)]\n",
    "pressure_slices = [Pressure2[i:i+step] for i in range(start_index, end_index, step)]\n",
    "\n",
    "for time_slice, pressure_slice in zip(time_slices, pressure_slices):\n",
    "    i=i+1\n",
    "    time_slice=[float(t) for t in time_slice]\n",
    "    pressure_slice=[float(p) for p in pressure_slice]\n",
    "    plt.plot(time_slice,pressure_slice)\n",
    "    filename= f'image_{i}.png'\n",
    "    filepath = os.path.join('C:/Users/Aakarsh/Downloads/images2', filename) \n",
    "    plt.savefig(filepath, format='png')\n",
    "    plt.clf()"
   ]
  },
  {
   "cell_type": "code",
   "execution_count": 7,
   "metadata": {},
   "outputs": [
    {
     "data": {
      "text/plain": [
       "<Figure size 432x288 with 0 Axes>"
      ]
     },
     "metadata": {},
     "output_type": "display_data"
    }
   ],
   "source": [
    "df1 = pd.read_csv('C:/Users/Aakarsh/Downloads/SURGE/Ar_24_Circ.txt', delimiter='\\t', header=None)\n",
    "\n",
    "Time3 = df1.iloc[:, 0]\n",
    "Pressure3 = df1.iloc[:, 1]\n",
    "\n",
    "start_index1 = 0\n",
    "end_index1 = 491520\n",
    "step1 = 150 \n",
    "\n",
    "time_slices = [Time3[i:i+step1] for i in range(start_index1, end_index1, step1)]\n",
    "pressure_slices = [Pressure3[i:i+step1] for i in range(start_index1, end_index1, step1)]\n",
    "\n",
    "for time_slice, pressure_slice in zip(time_slices, pressure_slices):\n",
    "    i=i+1\n",
    "    time_slice=[float(t) for t in time_slice]\n",
    "    pressure_slice=[float(p) for p in pressure_slice]\n",
    "    plt.plot(time_slice,pressure_slice)\n",
    "    filename= f'image_{i}.png'\n",
    "    filepath = os.path.join('C:/Users/Aakarsh/Downloads/images3', filename) \n",
    "    plt.savefig(filepath, format='png')\n",
    "    plt.clf()"
   ]
  },
  {
   "cell_type": "code",
   "execution_count": 8,
   "metadata": {},
   "outputs": [
    {
     "data": {
      "text/plain": [
       "<Figure size 432x288 with 0 Axes>"
      ]
     },
     "metadata": {},
     "output_type": "display_data"
    }
   ],
   "source": [
    "df2 = pd.read_csv('C:/Users/Aakarsh/Downloads/SURGE/Ar_38_Circ.txt', delimiter='\\t', header=None)\n",
    "\n",
    "Time4 = df2.iloc[:, 0] \n",
    "Pressure4 = df2.iloc[:, 1]  \n",
    "\n",
    "time_slices = [Time4[i:i+step1] for i in range(start_index1, end_index1, step1)]\n",
    "pressure_slices = [Pressure4[i:i+step1] for i in range(start_index1, end_index1, step1)]\n",
    "\n",
    "for time_slice, pressure_slice in zip(time_slices, pressure_slices):\n",
    "    i=i+1\n",
    "    time_slice=[float(t) for t in time_slice]\n",
    "    pressure_slice=[float(p) for p in pressure_slice]\n",
    "    plt.plot(time_slice,pressure_slice)\n",
    "    filename= f'image_{i}.png'\n",
    "    filepath = os.path.join('C:/Users/Aakarsh/Downloads/images4', filename) \n",
    "    plt.savefig(filepath, format='png')\n",
    "    plt.clf()"
   ]
  }
 ],
 "metadata": {
  "kernelspec": {
   "display_name": "Python 3",
   "language": "python",
   "name": "python3"
  },
  "language_info": {
   "codemirror_mode": {
    "name": "ipython",
    "version": 3
   },
   "file_extension": ".py",
   "mimetype": "text/x-python",
   "name": "python",
   "nbconvert_exporter": "python",
   "pygments_lexer": "ipython3",
   "version": "3.10.0"
  },
  "orig_nbformat": 4
 },
 "nbformat": 4,
 "nbformat_minor": 2
}
