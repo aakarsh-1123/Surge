{
 "cells": [
  {
   "cell_type": "code",
   "execution_count": 1,
   "metadata": {},
   "outputs": [],
   "source": [
    "import io\n",
    "import os\n",
    "import numpy as np\n",
    "import matplotlib.pyplot as plt\n",
    "from PIL import Image\n",
    "from sklearn.model_selection import train_test_split\n",
    "import pandas as pd"
   ]
  },
  {
   "cell_type": "code",
   "execution_count": 2,
   "metadata": {},
   "outputs": [
    {
     "name": "stdout",
     "output_type": "stream",
     "text": [
      "(3277, 288, 432)\n",
      "(3277, 1)\n"
     ]
    }
   ],
   "source": [
    "images_array1 = []\n",
    "directory= r\"C:\\Users\\Aakarsh\\Downloads\\images1\"\n",
    "for filename in os.listdir(directory):\n",
    "    file_path = os.path.join(directory, filename)\n",
    "    image = Image.open(file_path)\n",
    "    image=image.convert('L')\n",
    "    array = np.array(image)\n",
    "    images_array1.append(array)\n",
    "\n",
    "images_array1=np.array(images_array1)\n",
    "y1=np.zeros((len(images_array1),1))\n",
    "print(images_array1.shape)\n",
    "print(y1.shape)    "
   ]
  },
  {
   "cell_type": "code",
   "execution_count": 3,
   "metadata": {},
   "outputs": [
    {
     "name": "stdout",
     "output_type": "stream",
     "text": [
      "(3277, 288, 432)\n",
      "(3277, 1)\n"
     ]
    }
   ],
   "source": [
    "images_array2 = []\n",
    "directory= r\"C:\\Users\\Aakarsh\\Downloads\\images2\"\n",
    "for filename in os.listdir(directory):\n",
    "    file_path = os.path.join(directory, filename)\n",
    "    image = Image.open(file_path)\n",
    "    image=image.convert('L')\n",
    "    array = np.array(image)\n",
    "    images_array2.append(array)\n",
    "\n",
    "images_array2=np.array(images_array2)\n",
    "y2=np.ones((len(images_array2),1))\n",
    "print(images_array2.shape)\n",
    "print(y2.shape) "
   ]
  },
  {
   "cell_type": "code",
   "execution_count": 4,
   "metadata": {},
   "outputs": [
    {
     "name": "stdout",
     "output_type": "stream",
     "text": [
      "(3277, 288, 432)\n",
      "(3277, 1)\n"
     ]
    }
   ],
   "source": [
    "images_array3 = []\n",
    "directory= r\"C:\\Users\\Aakarsh\\Downloads\\images3\"\n",
    "for filename in os.listdir(directory):\n",
    "    file_path = os.path.join(directory, filename)\n",
    "    image = Image.open(file_path)\n",
    "    image=image.convert('L')\n",
    "    array = np.array(image)\n",
    "    images_array3.append(array)\n",
    "\n",
    "images_array3=np.array(images_array3)\n",
    "y3=np.ones((len(images_array3),1))\n",
    "print(images_array3.shape)\n",
    "print(y3.shape)"
   ]
  },
  {
   "cell_type": "code",
   "execution_count": 5,
   "metadata": {},
   "outputs": [
    {
     "name": "stdout",
     "output_type": "stream",
     "text": [
      "(3277, 288, 432)\n",
      "(3277, 1)\n"
     ]
    }
   ],
   "source": [
    "images_array4 = []\n",
    "directory= r\"C:\\Users\\Aakarsh\\Downloads\\images4\"\n",
    "for filename in os.listdir(directory):\n",
    "    file_path = os.path.join(directory, filename)\n",
    "    image = Image.open(file_path)\n",
    "    image=image.convert('L')\n",
    "    array = np.array(image)\n",
    "    images_array4.append(array)\n",
    "\n",
    "images_array4=np.array(images_array4)\n",
    "y4=np.zeros((len(images_array4),1))\n",
    "print(images_array4.shape)\n",
    "print(y4.shape)"
   ]
  },
  {
   "cell_type": "code",
   "execution_count": 6,
   "metadata": {},
   "outputs": [
    {
     "name": "stdout",
     "output_type": "stream",
     "text": [
      "(13108, 288, 432)\n",
      "(13108, 1)\n",
      "(11797, 288, 432)\n",
      "(1311, 288, 432)\n",
      "(11797, 1)\n",
      "(1311, 1)\n"
     ]
    }
   ],
   "source": [
    "x= np.concatenate((images_array1,images_array2,images_array3,images_array4),axis=0)\n",
    "y= np.concatenate((y1,y2,y3,y4),axis=0)\n",
    "print(x.shape)\n",
    "print(y.shape)\n",
    "num_samples = x.shape[0]\n",
    "indices = np.random.permutation(num_samples)\n",
    "x = x[indices]\n",
    "y = y[indices]\n",
    "x_train,x_test,y_train, y_test = train_test_split(x,y, test_size=0.1,random_state=42)\n",
    "print(x_train.shape)\n",
    "print(x_test.shape)\n",
    "print(y_train.shape)\n",
    "print(y_test.shape)"
   ]
  },
  {
   "cell_type": "code",
   "execution_count": 7,
   "metadata": {},
   "outputs": [],
   "source": [
    "import random\n",
    "from tensorflow.keras.models import Sequential\n",
    "from tensorflow.keras.layers import Conv2D,Activation,MaxPooling2D,Dense,Flatten"
   ]
  },
  {
   "cell_type": "code",
   "execution_count": 8,
   "metadata": {},
   "outputs": [],
   "source": [
    "model = Sequential()\n",
    "model.add(Conv2D(32, (3, 3), activation='relu', input_shape=(288,432,1)))\n",
    "model.add(MaxPooling2D(2, 2))\n",
    "model.add(Conv2D(32, (3, 3), activation='relu'))\n",
    "model.add(MaxPooling2D(2, 2))\n",
    "model.add(Flatten())\n",
    "model.add(Dense(64, activation='relu'))\n",
    "model.add(Dense(1, activation='sigmoid'))"
   ]
  },
  {
   "cell_type": "code",
   "execution_count": 9,
   "metadata": {},
   "outputs": [],
   "source": [
    "model.compile(loss='binary_crossentropy',optimizer='adam',metrics=['accuracy'])"
   ]
  },
  {
   "cell_type": "code",
   "execution_count": 10,
   "metadata": {},
   "outputs": [
    {
     "name": "stdout",
     "output_type": "stream",
     "text": [
      "Epoch 1/10\n",
      "185/185 [==============================] - 446s 2s/step - loss: 49.6287 - accuracy: 0.8506\n",
      "Epoch 2/10\n",
      "185/185 [==============================] - 444s 2s/step - loss: 0.1817 - accuracy: 0.9236\n",
      "Epoch 3/10\n",
      "185/185 [==============================] - 456s 2s/step - loss: 0.1405 - accuracy: 0.9389\n",
      "Epoch 4/10\n",
      "185/185 [==============================] - 430s 2s/step - loss: 0.0918 - accuracy: 0.9624\n",
      "Epoch 5/10\n",
      "185/185 [==============================] - 434s 2s/step - loss: 0.0525 - accuracy: 0.9797\n",
      "Epoch 6/10\n",
      "185/185 [==============================] - 420s 2s/step - loss: 0.0315 - accuracy: 0.9903\n",
      "Epoch 7/10\n",
      "185/185 [==============================] - 433s 2s/step - loss: 0.0135 - accuracy: 0.9968\n",
      "Epoch 8/10\n",
      "185/185 [==============================] - 437s 2s/step - loss: 0.0040 - accuracy: 0.9995\n",
      "Epoch 9/10\n",
      "185/185 [==============================] - 427s 2s/step - loss: 0.0013 - accuracy: 0.9999\n",
      "Epoch 10/10\n",
      "185/185 [==============================] - 463s 3s/step - loss: 8.7578e-04 - accuracy: 0.9997\n"
     ]
    },
    {
     "data": {
      "text/plain": [
       "<keras.callbacks.History at 0x1f691a61270>"
      ]
     },
     "execution_count": 10,
     "metadata": {},
     "output_type": "execute_result"
    }
   ],
   "source": [
    "model.fit(x_train,y_train,epochs=10,batch_size=64)"
   ]
  },
  {
   "cell_type": "code",
   "execution_count": 11,
   "metadata": {},
   "outputs": [
    {
     "name": "stdout",
     "output_type": "stream",
     "text": [
      "41/41 [==============================] - 10s 249ms/step - loss: 0.5592 - accuracy: 0.9130\n"
     ]
    },
    {
     "data": {
      "text/plain": [
       "[0.559237003326416, 0.9130434989929199]"
      ]
     },
     "execution_count": 11,
     "metadata": {},
     "output_type": "execute_result"
    }
   ],
   "source": [
    "model.evaluate(x_test,y_test)"
   ]
  }
 ],
 "metadata": {
  "kernelspec": {
   "display_name": "Python 3",
   "language": "python",
   "name": "python3"
  },
  "language_info": {
   "codemirror_mode": {
    "name": "ipython",
    "version": 3
   },
   "file_extension": ".py",
   "mimetype": "text/x-python",
   "name": "python",
   "nbconvert_exporter": "python",
   "pygments_lexer": "ipython3",
   "version": "3.10.0"
  },
  "orig_nbformat": 4
 },
 "nbformat": 4,
 "nbformat_minor": 2
}
