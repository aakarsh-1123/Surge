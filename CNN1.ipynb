{
 "cells": [
  {
   "cell_type": "code",
   "execution_count": 1,
   "metadata": {},
   "outputs": [],
   "source": [
    "import io\n",
    "import os\n",
    "import numpy as np\n",
    "import matplotlib.pyplot as plt\n",
    "from PIL import Image\n",
    "from sklearn.model_selection import train_test_split\n",
    "import pandas as pd"
   ]
  },
  {
   "cell_type": "code",
   "execution_count": 2,
   "metadata": {},
   "outputs": [
    {
     "name": "stdout",
     "output_type": "stream",
     "text": [
      "(3277, 288, 432)\n",
      "(3277, 1)\n"
     ]
    }
   ],
   "source": [
    "images_array1 = []\n",
    "directory= r\"C:\\Users\\Aakarsh\\Downloads\\images1\"\n",
    "for filename in os.listdir(directory):\n",
    "    file_path = os.path.join(directory, filename)\n",
    "    image = Image.open(file_path)\n",
    "    image=image.convert('L')\n",
    "    array = np.array(image)\n",
    "    images_array1.append(array)\n",
    "\n",
    "images_array1=np.array(images_array1)\n",
    "y1=np.zeros((len(images_array1),1))\n",
    "print(images_array1.shape)\n",
    "print(y1.shape)    "
   ]
  },
  {
   "cell_type": "code",
   "execution_count": 3,
   "metadata": {},
   "outputs": [
    {
     "name": "stdout",
     "output_type": "stream",
     "text": [
      "(3277, 288, 432)\n",
      "(3277, 1)\n"
     ]
    }
   ],
   "source": [
    "images_array2 = []\n",
    "directory= r\"C:\\Users\\Aakarsh\\Downloads\\images2\"\n",
    "for filename in os.listdir(directory):\n",
    "    file_path = os.path.join(directory, filename)\n",
    "    image = Image.open(file_path)\n",
    "    image=image.convert('L')\n",
    "    array = np.array(image)\n",
    "    images_array2.append(array)\n",
    "\n",
    "images_array2=np.array(images_array2)\n",
    "y2=np.ones((len(images_array2),1))\n",
    "print(images_array2.shape)\n",
    "print(y2.shape) "
   ]
  },
  {
   "cell_type": "code",
   "execution_count": 4,
   "metadata": {},
   "outputs": [
    {
     "name": "stdout",
     "output_type": "stream",
     "text": [
      "(6554, 288, 432)\n",
      "(6554, 1)\n",
      "(5898, 288, 432)\n",
      "(656, 288, 432)\n",
      "(5898, 1)\n",
      "(656, 1)\n"
     ]
    }
   ],
   "source": [
    "x= np.concatenate((images_array1,images_array2),axis=0)\n",
    "y= np.concatenate((y1,y2),axis=0)\n",
    "print(x.shape)\n",
    "print(y.shape)\n",
    "num_samples = x.shape[0]\n",
    "indices = np.random.permutation(num_samples)\n",
    "x = x[indices]\n",
    "y = y[indices]\n",
    "x_train,x_test,y_train, y_test = train_test_split(x,y, test_size=0.1,random_state=42)\n",
    "print(x_train.shape)\n",
    "print(x_test.shape)\n",
    "print(y_train.shape)\n",
    "print(y_test.shape)"
   ]
  },
  {
   "cell_type": "code",
   "execution_count": 5,
   "metadata": {},
   "outputs": [],
   "source": [
    "import random\n",
    "from tensorflow.keras.models import Sequential\n",
    "from tensorflow.keras.layers import Conv2D,Activation,MaxPooling2D,Dense,Flatten"
   ]
  },
  {
   "cell_type": "code",
   "execution_count": 6,
   "metadata": {},
   "outputs": [],
   "source": [
    "model = Sequential()\n",
    "model.add(Conv2D(32, (3, 3), activation='relu', input_shape=(288, 432,1)))\n",
    "model.add(MaxPooling2D(2, 2))\n",
    "model.add(Conv2D(32, (3, 3), activation='relu'))\n",
    "model.add(MaxPooling2D(2, 2))\n",
    "model.add(Flatten())\n",
    "model.add(Dense(64, activation='relu'))\n",
    "model.add(Dense(1, activation='sigmoid'))"
   ]
  },
  {
   "cell_type": "code",
   "execution_count": 7,
   "metadata": {},
   "outputs": [],
   "source": [
    "model.compile(loss='binary_crossentropy',optimizer='adam',metrics=['accuracy'])"
   ]
  },
  {
   "cell_type": "code",
   "execution_count": 8,
   "metadata": {},
   "outputs": [
    {
     "name": "stdout",
     "output_type": "stream",
     "text": [
      "Epoch 1/10\n",
      "93/93 [==============================] - 280s 3s/step - loss: 132.6220 - accuracy: 0.8918\n",
      "Epoch 2/10\n",
      "93/93 [==============================] - 258s 3s/step - loss: 0.0172 - accuracy: 0.9947\n",
      "Epoch 3/10\n",
      "93/93 [==============================] - 257s 3s/step - loss: 0.0119 - accuracy: 0.9966\n",
      "Epoch 4/10\n",
      "93/93 [==============================] - 240s 3s/step - loss: 0.0993 - accuracy: 0.9752\n",
      "Epoch 5/10\n",
      "93/93 [==============================] - 233s 3s/step - loss: 0.0566 - accuracy: 0.9878\n",
      "Epoch 6/10\n",
      "93/93 [==============================] - 233s 3s/step - loss: 0.0134 - accuracy: 0.9959\n",
      "Epoch 7/10\n",
      "93/93 [==============================] - 226s 2s/step - loss: 0.0022 - accuracy: 0.9995\n",
      "Epoch 8/10\n",
      "93/93 [==============================] - 224s 2s/step - loss: 0.0038 - accuracy: 0.9995\n",
      "Epoch 9/10\n",
      "93/93 [==============================] - 240s 3s/step - loss: 0.0026 - accuracy: 0.9992\n",
      "Epoch 10/10\n",
      "93/93 [==============================] - 233s 3s/step - loss: 5.4387e-04 - accuracy: 0.9998\n"
     ]
    },
    {
     "data": {
      "text/plain": [
       "<keras.callbacks.History at 0x2b1c4bc5270>"
      ]
     },
     "execution_count": 8,
     "metadata": {},
     "output_type": "execute_result"
    }
   ],
   "source": [
    "model.fit(x_train,y_train,epochs=10,batch_size=64)"
   ]
  },
  {
   "cell_type": "code",
   "execution_count": 9,
   "metadata": {},
   "outputs": [
    {
     "name": "stdout",
     "output_type": "stream",
     "text": [
      "21/21 [==============================] - 7s 230ms/step - loss: 0.0330 - accuracy: 0.9939\n"
     ]
    },
    {
     "data": {
      "text/plain": [
       "[0.033021844923496246, 0.9939024448394775]"
      ]
     },
     "execution_count": 9,
     "metadata": {},
     "output_type": "execute_result"
    }
   ],
   "source": [
    "model.evaluate(x_test,y_test)"
   ]
  }
 ],
 "metadata": {
  "kernelspec": {
   "display_name": "Python 3",
   "language": "python",
   "name": "python3"
  },
  "language_info": {
   "codemirror_mode": {
    "name": "ipython",
    "version": 3
   },
   "file_extension": ".py",
   "mimetype": "text/x-python",
   "name": "python",
   "nbconvert_exporter": "python",
   "pygments_lexer": "ipython3",
   "version": "3.10.0"
  },
  "orig_nbformat": 4
 },
 "nbformat": 4,
 "nbformat_minor": 2
}
