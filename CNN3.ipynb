{
 "cells": [
  {
   "cell_type": "code",
   "execution_count": 1,
   "metadata": {},
   "outputs": [],
   "source": [
    "import io\n",
    "import os\n",
    "import numpy as np\n",
    "import matplotlib.pyplot as plt\n",
    "from PIL import Image\n",
    "from sklearn.model_selection import train_test_split\n",
    "import pandas as pd"
   ]
  },
  {
   "cell_type": "code",
   "execution_count": 2,
   "metadata": {},
   "outputs": [
    {
     "name": "stdout",
     "output_type": "stream",
     "text": [
      "(3277, 288, 432)\n",
      "(3277, 1)\n"
     ]
    }
   ],
   "source": [
    "images_array1 = []\n",
    "directory= r\"C:\\Users\\Aakarsh\\Downloads\\images1\"\n",
    "for filename in os.listdir(directory):\n",
    "    file_path = os.path.join(directory, filename)\n",
    "    image = Image.open(file_path)\n",
    "    image=image.convert('L')\n",
    "    array = np.array(image)\n",
    "    images_array1.append(array)\n",
    "\n",
    "images_array1=np.array(images_array1)\n",
    "y1=np.zeros((len(images_array1),1))\n",
    "print(images_array1.shape)\n",
    "print(y1.shape)    "
   ]
  },
  {
   "cell_type": "code",
   "execution_count": 3,
   "metadata": {},
   "outputs": [
    {
     "name": "stdout",
     "output_type": "stream",
     "text": [
      "(3277, 288, 432)\n",
      "(3277, 1)\n"
     ]
    }
   ],
   "source": [
    "images_array2 = []\n",
    "directory= r\"C:\\Users\\Aakarsh\\Downloads\\images2\"\n",
    "for filename in os.listdir(directory):\n",
    "    file_path = os.path.join(directory, filename)\n",
    "    image = Image.open(file_path)\n",
    "    image=image.convert('L')\n",
    "    array = np.array(image)\n",
    "    images_array2.append(array)\n",
    "\n",
    "images_array2=np.array(images_array2)\n",
    "y2=np.ones((len(images_array2),1))\n",
    "print(images_array2.shape)\n",
    "print(y2.shape) "
   ]
  },
  {
   "cell_type": "code",
   "execution_count": 4,
   "metadata": {},
   "outputs": [
    {
     "name": "stdout",
     "output_type": "stream",
     "text": [
      "(6554, 288, 432)\n",
      "(6554, 1)\n"
     ]
    }
   ],
   "source": [
    "x_train= np.concatenate((images_array1,images_array2),axis=0)\n",
    "y_train= np.concatenate((y1,y2),axis=0)\n",
    "num_samples = x_train.shape[0]\n",
    "indices = np.random.permutation(num_samples)\n",
    "x_train = x_train[indices]\n",
    "y_train = y_train[indices]\n",
    "print(x_train.shape)\n",
    "print(y_train.shape)"
   ]
  },
  {
   "cell_type": "code",
   "execution_count": 5,
   "metadata": {},
   "outputs": [
    {
     "name": "stdout",
     "output_type": "stream",
     "text": [
      "(3277, 288, 432)\n",
      "(3277, 1)\n"
     ]
    }
   ],
   "source": [
    "images_array3 = []\n",
    "directory= r\"C:\\Users\\Aakarsh\\Downloads\\images3\"\n",
    "for filename in os.listdir(directory):\n",
    "    file_path = os.path.join(directory, filename)\n",
    "    image = Image.open(file_path)\n",
    "    image=image.convert('L')\n",
    "    array = np.array(image)\n",
    "    images_array3.append(array)\n",
    "\n",
    "images_array3=np.array(images_array3)\n",
    "y3=np.ones((len(images_array3),1))\n",
    "print(images_array3.shape)\n",
    "print(y3.shape) "
   ]
  },
  {
   "cell_type": "code",
   "execution_count": 6,
   "metadata": {},
   "outputs": [
    {
     "name": "stdout",
     "output_type": "stream",
     "text": [
      "(3277, 288, 432)\n",
      "(3277, 1)\n"
     ]
    }
   ],
   "source": [
    "images_array4 = []\n",
    "directory= r\"C:\\Users\\Aakarsh\\Downloads\\images4\"\n",
    "for filename in os.listdir(directory):\n",
    "    file_path = os.path.join(directory, filename)\n",
    "    image = Image.open(file_path)\n",
    "    image=image.convert('L')\n",
    "    array = np.array(image)\n",
    "    images_array4.append(array)\n",
    "\n",
    "images_array4=np.array(images_array4)\n",
    "y4=np.zeros((len(images_array4),1))\n",
    "print(images_array4.shape)\n",
    "print(y4.shape) "
   ]
  },
  {
   "cell_type": "code",
   "execution_count": 7,
   "metadata": {},
   "outputs": [
    {
     "name": "stdout",
     "output_type": "stream",
     "text": [
      "(6554, 288, 432)\n",
      "(6554, 1)\n"
     ]
    }
   ],
   "source": [
    "x_test= np.concatenate((images_array3,images_array4),axis=0)\n",
    "y_test= np.concatenate((y3,y4),axis=0)\n",
    "num_samples = x_test.shape[0]\n",
    "indices = np.random.permutation(num_samples)\n",
    "x_test = x_test[indices]\n",
    "y_test = y_test[indices]\n",
    "print(x_test.shape)\n",
    "print(y_test.shape)"
   ]
  },
  {
   "cell_type": "code",
   "execution_count": 8,
   "metadata": {},
   "outputs": [],
   "source": [
    "import random\n",
    "from tensorflow.keras.models import Sequential\n",
    "from tensorflow.keras.layers import Conv2D,Activation,MaxPooling2D,Dense,Flatten"
   ]
  },
  {
   "cell_type": "code",
   "execution_count": 9,
   "metadata": {},
   "outputs": [],
   "source": [
    "model = Sequential()\n",
    "model.add(Conv2D(32, (3, 3), activation='relu', input_shape=(288,432,1)))\n",
    "model.add(MaxPooling2D(2, 2))\n",
    "model.add(Conv2D(32, (3, 3), activation='relu'))\n",
    "model.add(MaxPooling2D(2, 2))\n",
    "model.add(Flatten())\n",
    "model.add(Dense(64, activation='relu'))\n",
    "model.add(Dense(1, activation='sigmoid'))"
   ]
  },
  {
   "cell_type": "code",
   "execution_count": 10,
   "metadata": {},
   "outputs": [],
   "source": [
    "model.compile(loss='binary_crossentropy',optimizer='adam',metrics=['accuracy'])"
   ]
  },
  {
   "cell_type": "code",
   "execution_count": 11,
   "metadata": {},
   "outputs": [
    {
     "name": "stdout",
     "output_type": "stream",
     "text": [
      "Epoch 1/10\n",
      "103/103 [==============================] - 254s 2s/step - loss: 132.2110 - accuracy: 0.8345\n",
      "Epoch 2/10\n",
      "103/103 [==============================] - 243s 2s/step - loss: 0.0231 - accuracy: 0.9931\n",
      "Epoch 3/10\n",
      "103/103 [==============================] - 269s 3s/step - loss: 0.0109 - accuracy: 0.9959\n",
      "Epoch 4/10\n",
      "103/103 [==============================] - 234s 2s/step - loss: 0.0092 - accuracy: 0.9974\n",
      "Epoch 5/10\n",
      "103/103 [==============================] - 232s 2s/step - loss: 0.0049 - accuracy: 0.9983\n",
      "Epoch 6/10\n",
      "103/103 [==============================] - 240s 2s/step - loss: 0.0010 - accuracy: 0.9998\n",
      "Epoch 7/10\n",
      "103/103 [==============================] - 242s 2s/step - loss: 0.0019 - accuracy: 0.9995\n",
      "Epoch 8/10\n",
      "103/103 [==============================] - 243s 2s/step - loss: 0.0031 - accuracy: 0.9995\n",
      "Epoch 9/10\n",
      "103/103 [==============================] - 241s 2s/step - loss: 0.0024 - accuracy: 0.9992\n",
      "Epoch 10/10\n",
      "103/103 [==============================] - 243s 2s/step - loss: 0.0040 - accuracy: 0.9985\n"
     ]
    },
    {
     "data": {
      "text/plain": [
       "<keras.callbacks.History at 0x1b31da4d240>"
      ]
     },
     "execution_count": 11,
     "metadata": {},
     "output_type": "execute_result"
    }
   ],
   "source": [
    "model.fit(x_train,y_train,epochs=10,batch_size=64)"
   ]
  },
  {
   "cell_type": "code",
   "execution_count": 12,
   "metadata": {},
   "outputs": [
    {
     "name": "stdout",
     "output_type": "stream",
     "text": [
      "205/205 [==============================] - 62s 286ms/step - loss: 1.3849 - accuracy: 0.7595\n"
     ]
    },
    {
     "data": {
      "text/plain": [
       "[1.3848700523376465, 0.7595361471176147]"
      ]
     },
     "execution_count": 12,
     "metadata": {},
     "output_type": "execute_result"
    }
   ],
   "source": [
    "model.evaluate(x_test,y_test)"
   ]
  }
 ],
 "metadata": {
  "kernelspec": {
   "display_name": "Python 3",
   "language": "python",
   "name": "python3"
  },
  "language_info": {
   "codemirror_mode": {
    "name": "ipython",
    "version": 3
   },
   "file_extension": ".py",
   "mimetype": "text/x-python",
   "name": "python",
   "nbconvert_exporter": "python",
   "pygments_lexer": "ipython3",
   "version": "3.10.0"
  },
  "orig_nbformat": 4
 },
 "nbformat": 4,
 "nbformat_minor": 2
}
